{
 "cells": [
  {
   "cell_type": "markdown",
   "metadata": {},
   "source": [
    "[ADS Entry](http://adsabs.harvard.edu/abs/1990ApJ...365L..55S)"
   ]
  },
  {
   "cell_type": "code",
   "execution_count": 32,
   "metadata": {
    "collapsed": true
   },
   "outputs": [],
   "source": [
    "import sympy\n",
    "sympy.init_printing()"
   ]
  },
  {
   "cell_type": "markdown",
   "metadata": {},
   "source": [
    "One difficulty that I had with equation 1 is that is assumes that the pair production cross section decreases quadratically with the photon energy. The cross section for pair production can be found in equation 32 in [Weaver 1976](https://journals.aps.org/pra/abstract/10.1103/PhysRevA.13.1563). The full calculation can be found in [Theory of Photons and Electrons by Jauch and Rohrlich (1955)](https://archive.org/details/TheoryOfPhotonsElectrons)."
   ]
  },
  {
   "cell_type": "markdown",
   "metadata": {},
   "source": [
    "Equation 1"
   ]
  },
  {
   "cell_type": "code",
   "execution_count": 33,
   "metadata": {
    "collapsed": false
   },
   "outputs": [
    {
     "data": {
      "image/png": "[encoded data removed]",
      "text/latex": [
       "$$\\tau = \\frac{\\mathscr{E} \\alpha^{2}}{\\mathscr{R}^{2} \\epsilon^{3}}$$"
      ],
      "text/plain": [
       "                  2\n",
       "     \\mathscr{E}⋅α \n",
       "τ = ───────────────\n",
       "               2  3\n",
       "    \\mathscr{R} ⋅ε "
      ]
     },
     "execution_count": 33,
     "metadata": {},
     "output_type": "execute_result"
    }
   ],
   "source": [
    "sigma_T = sympy.Symbol('sigma_T')\n",
    "epsilon = sympy.Symbol('epsilon')\n",
    "n_gamma = sympy.Symbol('n_gamma')\n",
    "mathscrE = sympy.Symbol(r'\\mathscr{E}')\n",
    "mathscrR = sympy.Symbol(r'\\mathscr{R}')\n",
    "tau = sympy.Symbol('tau')\n",
    "hbar = sympy.Symbol('hbar', positive=True)\n",
    "c = sympy.Symbol('c',positive=True)\n",
    "m_e = sympy.Symbol('m_e', positive=True)\n",
    "R = sympy.Symbol('R', positive=True)\n",
    "alpha = sympy.Symbol('alpha')\n",
    "compton_wavelength = hbar/(m_e*c)\n",
    "_ = sigma_T*n_gamma*R/epsilon**2\n",
    "_ = _.subs(n_gamma,mathscrE/epsilon/R**3)\n",
    "_ = _.subs(R,mathscrR*compton_wavelength)\n",
    "_ = _.subs(sigma_T,alpha**2*compton_wavelength**2)\n",
    "eqn_1 = sympy.Eq(tau,_)\n",
    "eqn_1"
   ]
  },
  {
   "cell_type": "markdown",
   "metadata": {},
   "source": [
    "To derive equation 2, we begin with the Fermi distribution function for electrons\n",
    "\n",
    "$n = \\int_0^{\\infty} \\frac{p^2 dp}{\\hbar^3} \\left[1+\\exp \\left(\\frac{\\mu + \\sqrt{p^2 c^2 + m_e^2 c^4}}{k T} \\right)\\right]^{-1} =$\n",
    "\n",
    "Since the electrons are in equilibrium with photons, the chemical potential vanishes $\\mu = 0$\n",
    "\n",
    "$ = \\int_0^{\\infty} \\frac{p^2 dp}{\\hbar^3} \\left[1+\\exp \\left(\\frac{\\sqrt{p^2 c^2 + m_e^2 c^4}}{k T} \\right)\\right]^{-1} \\approx$\n",
    "\n",
    "Since we are dealing with temperatures much smaller than the electron rest mass energy, the exponential term in the denominator is much larger than unity\n",
    "\n",
    "$ \\approx \\int_0^{\\infty} \\frac{p^2 dp}{\\hbar^3} \\exp \\left(-\\frac{\\sqrt{p^2 c^2 + m_e^2 c^4}}{k T} \\right) \\approx$\n",
    "\n",
    "Most of the contribution to the integral comes from the $p \\ll m_e c$, so\n",
    "\n",
    "$ \\approx \\exp \\left(-\\frac{m_e c^2}{k T} \\right) \\int_0^{\\infty} \\frac{p^2 dp}{\\hbar^3} \\exp \\left(-\\frac{p^2}{m_e k T} \\right) \\approx \\exp \\left(-\\frac{m_e c^2}{k T} \\right) \\left(\\frac{m_e k T}{\\hbar^2} \\right)^{3/2}$"
   ]
  },
  {
   "cell_type": "code",
   "execution_count": 34,
   "metadata": {
    "collapsed": false
   },
   "outputs": [
    {
     "data": {
      "image/png": "[encoded data removed]",
      "text/latex": [
       "$$n_{\\pm} = \\frac{\\mathscr{T}^{\\frac{3}{2}}}{\\lambda_{e}^{3}} e^{- \\frac{1}{\\mathscr{T}}}$$"
      ],
      "text/plain": [
       "                              -1     \n",
       "                          ───────────\n",
       "                     3/2  \\mathscr{T}\n",
       "          \\mathscr{T}   ⋅ℯ           \n",
       "n_{\\pm} = ───────────────────────────\n",
       "                        3            \n",
       "                      λₑ             "
      ]
     },
     "execution_count": 34,
     "metadata": {},
     "output_type": "execute_result"
    }
   ],
   "source": [
    "k = sympy.Symbol('k')\n",
    "T = sympy.Symbol('T')\n",
    "lambda_e = sympy.Symbol('lambda_e')\n",
    "mathscrT = sympy.Symbol(r'\\mathscr{T}')\n",
    "n_pm = sympy.Symbol(r'n_{\\pm}')\n",
    "_ = sympy.exp(-m_e*c**2/k/T)*(m_e*k*T/hbar**2)**sympy.Rational(3,2)\n",
    "_ = _.subs(T,mathscrT*m_e*c**2/k)\n",
    "_ = _.subs(hbar,sympy.solve(sympy.Eq(lambda_e,compton_wavelength),hbar)[0])\n",
    "eqn_2 = sympy.Eq(n_pm,_)\n",
    "eqn_2"
   ]
  },
  {
   "cell_type": "markdown",
   "metadata": {},
   "source": [
    "Equation 3"
   ]
  },
  {
   "cell_type": "code",
   "execution_count": 35,
   "metadata": {
    "collapsed": false
   },
   "outputs": [
    {
     "data": {
      "image/png": "[encoded data removed]",
      "text/latex": [
       "$$\\mathscr{E} = \\mathscr{R}^{3} \\mathscr{T}^{4}$$"
      ],
      "text/plain": [
       "                         3            4\n",
       "\\mathscr{E} = \\mathscr{R} ⋅\\mathscr{T} "
      ]
     },
     "execution_count": 35,
     "metadata": {},
     "output_type": "execute_result"
    }
   ],
   "source": [
    "_ = sympy.Eq(mathscrE,R**3*(k*T)**4/(hbar*c)**3/(m_e*c**2))\n",
    "_ = _.subs(T,mathscrT*m_e*c**2/k)\n",
    "_ = _.subs(R, mathscrR*compton_wavelength)\n",
    "eqn_3 = _\n",
    "eqn_3"
   ]
  },
  {
   "cell_type": "markdown",
   "metadata": {},
   "source": [
    "The energy density in the fireball is comparable to the pressure $p$. The total energy in the fireball is therefore $R^3 p$. In order to escape, a photon has to travel a distance $R$. If the mean free path is $l$, then the number of scatterings it takes for a photon to reach the same is $\\left(R/l \\right)^2$, and so the actual path the photon travels before escaping is larger $R^2/l$. The photon moves all the while at the speed of light, so the escape time is $\\tau \\approx \\frac{R^2}{c l} \\approx \\frac{R}{c} \\tau$. The luminosity is therefore \n",
    "\n",
    "$L \\approx \\frac{p R^2 c}{\\tau}$.\n",
    "\n",
    "The ratio between the luminosity and mechanical power is\n",
    "\n",
    "$\\frac{L}{p dV/dt} \\approx {p R^2 c}{p R^2 dR/dt} \\frac{1}{\\tau} \\approx \\frac{1}{\\tau}$"
   ]
  },
  {
   "cell_type": "markdown",
   "metadata": {},
   "source": [
    "Equation 5"
   ]
  },
  {
   "cell_type": "code",
   "execution_count": 36,
   "metadata": {
    "collapsed": false
   },
   "outputs": [
    {
     "data": {
      "image/png": "[encoded data removed]",
      "text/latex": [
       "$$R T$$"
      ],
      "text/plain": [
       "R⋅T"
      ]
     },
     "execution_count": 36,
     "metadata": {},
     "output_type": "execute_result"
    }
   ],
   "source": [
    "V = sympy.Symbol('V')\n",
    "gamma = sympy.Symbol('gamma')\n",
    "_ = V**(gamma-1)*T\n",
    "_ = _.subs(gamma,sympy.Rational(4,3))\n",
    "_ = _.subs(V,R**3)\n",
    "_.simplify()"
   ]
  },
  {
   "cell_type": "code",
   "execution_count": null,
   "metadata": {
    "collapsed": true
   },
   "outputs": [],
   "source": []
  }
 ],
 "metadata": {
  "kernelspec": {
   "display_name": "Python 3",
   "language": "python",
   "name": "python3"
  },
  "language_info": {
   "codemirror_mode": {
    "name": "ipython",
    "version": 3
   },
   "file_extension": ".py",
   "mimetype": "text/x-python",
   "name": "python",
   "nbconvert_exporter": "python",
   "pygments_lexer": "ipython3",
   "version": "3.6.1"
  }
 },
 "nbformat": 4,
 "nbformat_minor": 2
}
